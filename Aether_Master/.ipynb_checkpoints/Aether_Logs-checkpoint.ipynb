{
 "cells": [
  {
   "cell_type": "markdown",
   "id": "4948e99f",
   "metadata": {},
   "source": [
    "# Aether_Logs\n",
    "\n",
    "This notebook logs system changes, version updates, and sync history."
   ]
  },
  {
   "cell_type": "markdown",
   "id": "404cca91-8d3f-492e-a237-ac59f4fc97f3",
   "metadata": {},
   "source": [
    "## Final Results  \n",
    "\n",
    "Here’s a clean, structured Markdown cell (or series of cells) you can paste directly into your Master Notebook. It clearly outlines all the steps to quickly and easily rebuild your fully customized JupyterLab environment in the future:\n",
    "\n",
    "⸻"
   ]
  },
  {
   "cell_type": "markdown",
   "id": "33897e72-7261-48ad-8b03-ee350a076656",
   "metadata": {},
   "source": [
    "📚 Markdown Pasteable Instructions\n",
    "\n",
    "(You can copy each part into separate Markdown cells in your notebook for clarity.)\n",
    "\n",
    "⸻"
   ]
  },
  {
   "cell_type": "markdown",
   "id": "efab9206-ad4d-4575-8fcd-372592541c81",
   "metadata": {},
   "source": [
    "🚀 Step-by-Step JupyterLab Custom Environment Rebuild\n",
    "\n",
    "These instructions detail exactly how to quickly recreate the entire customized JupyterLab environment, including all Docker configurations, Git integration, custom themes, and extensions.\n",
    "\n",
    "⸻"
   ]
  },
  {
   "cell_type": "markdown",
   "id": "252289c8-191b-4a83-b319-6e68eac7e97f",
   "metadata": {},
   "source": [
    "🔧 Step 1: Prepare the Environment\n",
    "\n",
    "Open a Terminal and execute:"
   ]
  },
  {
   "cell_type": "code",
   "execution_count": null,
   "id": "b6d609b6-3694-4012-9fdd-0b72f79d6934",
   "metadata": {},
   "outputs": [],
   "source": [
    "mkdir -p ~/.jupyter/docker ~/One-Book-To-Rule-Them-All ~/.ssh ~/config-cluster"
   ]
  },
  {
   "cell_type": "markdown",
   "id": "0ea71522-f45e-416b-8734-4ec21a1fd8bc",
   "metadata": {},
   "source": [
    "Ensure you have your SSH keys placed in ~/.ssh.\n",
    "\n",
    "⸻"
   ]
  },
  {
   "cell_type": "markdown",
   "id": "5aaf5e5f-0d4e-4510-984c-88da3781935d",
   "metadata": {},
   "source": [
    "📄 Step 2: Generate the Docker Setup Script\n",
    "\n",
    "Create or open your Docker setup script:"
   ]
  },
  {
   "cell_type": "code",
   "execution_count": null,
   "id": "82eeda17-8719-4c27-8a55-493e7d538948",
   "metadata": {},
   "outputs": [],
   "source": [
    "~/jupyter_dock.sh"
   ]
  },
  {
   "cell_type": "markdown",
   "id": "6a2d4bb4-31f0-4791-a52d-41edb4d44843",
   "metadata": {},
   "source": [
    "Paste the following content:"
   ]
  },
  {
   "cell_type": "markdown",
   "id": "44c00796-7043-4949-b1a5-8d1a1c2962db",
   "metadata": {},
   "source": [
    "## Jupyter/Docker Script : "
   ]
  },
  {
   "cell_type": "code",
   "execution_count": null,
   "id": "192f87d0-af5b-477a-8baf-5cb88afa8771",
   "metadata": {},
   "outputs": [],
   "source": [
    "#!/bin/bash\n",
    "\n",
    "# Define paths\n",
    "JUPYTER_DIR=\"$HOME/.jupyter/docker\"\n",
    "DOCKERFILE=\"$JUPYTER_DIR/Dockerfile\"\n",
    "COMPOSE_FILE=\"$JUPYTER_DIR/docker-compose.yml\"\n",
    "\n",
    "# Ensure directories exist\n",
    "mkdir -p \"$JUPYTER_DIR\"\n",
    "\n",
    "# Generate Dockerfile\n",
    "cat <<EOF > \"$DOCKERFILE\"\n",
    "FROM jupyter/base-notebook\n",
    "\n",
    "USER root\n",
    "\n",
    "# Install necessary packages\n",
    "RUN rm -rf /var/lib/apt/lists/* \\\\\n",
    "    && apt update && apt install -y git nano vim openssh-client \\\\\n",
    "    && apt clean && rm -rf /var/lib/apt/lists/*\n",
    "\n",
    "# Install JupyterLab extensions and AI integration\n",
    "RUN pip install --upgrade \\\\\n",
    "    jupyterlab \\\\\n",
    "    jupyterlab-git \\\\\n",
    "    jupyterlab_vim \\\\\n",
    "    jupyterlab_code_formatter \\\\\n",
    "    openai \\\\\n",
    "    jupyter-ai \\\\\n",
    "    black \\\\\n",
    "    && jupyter lab build\n",
    "\n",
    "# Custom Theme setup (WP_DOS)\n",
    "RUN mkdir -p /home/jovyan/.jupyter/custom \\\\\n",
    "    && echo \"@import url('file:///home/jovyan/WP_DOS/custom.css');\" > /home/jovyan/.jupyter/custom/custom.css\n",
    "\n",
    "# Git configuration\n",
    "RUN git config --global user.name \"hawkeyetheRapper\" \\\\\n",
    "    && git config --global user.email \"admin@omniversalmedia.cc\"\n",
    "\n",
    "# SSH setup\n",
    "RUN mkdir -p /home/jovyan/.ssh \\\\\n",
    "    && chmod 700 /home/jovyan/.ssh\n",
    "\n",
    "# Fix Permissions\n",
    "RUN chown -R jovyan:users /home/jovyan\n",
    "\n",
    "USER jovyan\n",
    "EXPOSE 8888\n",
    "CMD [\"start-notebook.sh\", \"--NotebookApp.token=''\"]\n",
    "EOF\n",
    "\n",
    "# Create docker-compose.yml\n",
    "cat <<EOF > \"$COMPOSE_FILE\"\n",
    "version: '3.8'\n",
    "services:\n",
    "  jupyterlab:\n",
    "    build: .\n",
    "    container_name: jupyterlab\n",
    "    restart: unless-stopped\n",
    "    ports:\n",
    "      - \"8888:8888\"\n",
    "    volumes:\n",
    "      - ~/One-Book-To-Rule-Them-All:/home/jovyan/work\n",
    "      - ~/.ssh:/home/jovyan/.ssh\n",
    "      - ~/.gitconfig:/home/jovyan/.gitconfig\n",
    "      - ~/.bashrc:/home/jovyan/.bashrc\n",
    "      - ~/.jupyter:/home/jovyan/.jupyter\n",
    "      - ~/config-cluster:/home/jovyan/config-cluster\n",
    "    environment:\n",
    "      - JUPYTER_ENABLE_LAB=yes\n",
    "      - NB_UID=1000\n",
    "      - NB_GID=1000\n",
    "      - JUPYTER_TOKEN=VALOR13Selene\n",
    "      - JUPYTER_ALLOW_ORIGIN=\"*\"\n",
    "      - JUPYTERHUB_SERVICE_PREFIX=/\n",
    "      - JUPYTERLAB_SETTINGS_DIR=/home/jovyan/.jupyter\n",
    "      - JUPYTER_CONFIG_DIR=/home/jovyan/.jupyter\n",
    "EOF\n",
    "\n",
    "# Build and start JupyterLab\n",
    "cd \"$JUPYTER_DIR\"\n",
    "docker-compose down\n",
    "docker-compose up -d --build\n",
    "\n",
    "echo \"✅ JupyterLab setup complete!\""
   ]
  },
  {
   "cell_type": "markdown",
   "id": "30bbd398-0075-4bc4-9b5d-a41d97e46a31",
   "metadata": {},
   "source": [
    "Make the script executable:"
   ]
  },
  {
   "cell_type": "code",
   "execution_count": null,
   "id": "dd173329-dd6e-4356-930a-990a5d2881c8",
   "metadata": {},
   "outputs": [],
   "source": [
    "chmod +x ~/jupyter_dock.sh"
   ]
  },
  {
   "cell_type": "markdown",
   "id": "a586bab3-04ab-4b72-963e-9baf6b544ccf",
   "metadata": {},
   "source": [
    "⸻\n",
    "\n",
    "📌 Step 3: Deploy and Launch JupyterLab\n",
    "\n",
    "Run your deployment script:"
   ]
  },
  {
   "cell_type": "code",
   "execution_count": null,
   "id": "e1563162-26b8-4259-b718-9d893d755982",
   "metadata": {},
   "outputs": [],
   "source": [
    "~/jupyter_dock.sh"
   ]
  },
  {
   "cell_type": "markdown",
   "id": "834f88c8-eda4-4fc9-9437-166c4868f5d8",
   "metadata": {},
   "source": [
    "Your custom JupyterLab environment is now deployed and live!\n",
    "\n",
    "⸻\n",
    "\n",
    "🔄 Step 4: Rapid Rebuild/Restart (Rejupyterize)\n",
    "\n",
    "To quickly rebuild or restart JupyterLab in the future, create a helper script called rejupyterize.sh:"
   ]
  },
  {
   "cell_type": "code",
   "execution_count": null,
   "id": "88da3a50-ba59-4772-8137-699592681ea5",
   "metadata": {},
   "outputs": [],
   "source": [
    "#!/bin/bash\n",
    "cd ~/.jupyter/docker\n",
    "docker-compose down\n",
    "docker-compose up -d --build\n",
    "echo \"✅ JupyterLab has been rejupyterized!\""
   ]
  },
  {
   "cell_type": "markdown",
   "id": "619dd176-5543-4058-bc09-ff10017848a5",
   "metadata": {},
   "source": [
    "Make it globally accessible:"
   ]
  },
  {
   "cell_type": "code",
   "execution_count": null,
   "id": "63b94b69-7788-44b9-87ba-417644baac51",
   "metadata": {},
   "outputs": [],
   "source": [
    "chmod +x ~/rejupyterize.sh\n",
    "sudo ln -s ~/rejupyterize.sh /usr/local/bin/rejupyterize"
   ]
  },
  {
   "cell_type": "markdown",
   "id": "ca800770-2022-4daf-b17b-0830e72dcdb0",
   "metadata": {},
   "source": [
    "Now, anytime you need a quick restart or rebuild, just type in the terminal:\n"
   ]
  },
  {
   "cell_type": "code",
   "execution_count": null,
   "id": "eeee17c0-bbff-4e9b-aa45-d13a848013bc",
   "metadata": {},
   "outputs": [],
   "source": [
    "rejupyterize"
   ]
  },
  {
   "cell_type": "markdown",
   "id": "ad846697-ec56-4cba-8c86-781b989f001c",
   "metadata": {},
   "source": [
    "⸻\n",
    "\n",
    "📁 Step 5: Git Integration Setup\n",
    "\n",
    "Ensure your Git credentials and SSH keys are correctly configured (if not already automated):"
   ]
  },
  {
   "cell_type": "code",
   "execution_count": null,
   "id": "5f4627bf-b66c-485a-b3c8-86e71a57f104",
   "metadata": {},
   "outputs": [],
   "source": [
    "git config --global user.name \"hawkeyetheRapper\"\n",
    "git config --global user.email \"admin@omniversalmedia.cc\"\n",
    "\n",
    "# Verify SSH connectivity\n",
    "ssh -T git@github.com"
   ]
  },
  {
   "cell_type": "markdown",
   "id": "cd8797a9-1a31-48dd-9bf2-75837ec97445",
   "metadata": {},
   "source": [
    "⸻\n",
    "\n",
    "🚨 Troubleshooting Common Issues"
   ]
  },
  {
   "cell_type": "markdown",
   "id": "acd183f6-82e3-4ef8-aa48-4fabecd43432",
   "metadata": {},
   "source": [
    "Issue\tSolution\n",
    "Docker permission denied\tAdd your user to Docker group:sudo usermod -aG docker yourusername\n",
    "SSH/Git permission denied\tEnsure correct keys at ~/.ssh with chmod 600 ~/.ssh/id_rsa\n",
    "Container not starting\tUse docker logs jupyterlab to debug\n",
    "Theme not loading\tVerify correct paths in Dockerfile"
   ]
  },
  {
   "cell_type": "markdown",
   "id": "32da2a55-dad4-4c9e-a4fb-84491c52d435",
   "metadata": {},
   "source": [
    "⸻\n",
    "\n",
    "🎉 Final Outcome\n",
    "\n",
    "You now have a fully automated, customizable, and reproducible JupyterLab environment setup.\n",
    "\n",
    "You can rebuild, update, and maintain your workflow easily, at any time.\n",
    "\n",
    "⸻\n",
    "\n",
    "🌟 Next Steps\n",
    "\t•\tAdd further automation scripts and notebook templates.\n",
    "\t•\tContinue enhancing themes & AI workflows.\n",
    "\t•\tDocument everything clearly inside your notebooks.\n",
    "\n",
    "Congratulations on your successful build! 🚀"
   ]
  }
 ],
 "metadata": {
  "kernelspec": {
   "display_name": "Python 3 (ipykernel)",
   "language": "python",
   "name": "python3"
  },
  "language_info": {
   "codemirror_mode": {
    "name": "ipython",
    "version": 3
   },
   "file_extension": ".py",
   "mimetype": "text/x-python",
   "name": "python",
   "nbconvert_exporter": "python",
   "pygments_lexer": "ipython3",
   "version": "3.11.6"
  }
 },
 "nbformat": 4,
 "nbformat_minor": 5
}
