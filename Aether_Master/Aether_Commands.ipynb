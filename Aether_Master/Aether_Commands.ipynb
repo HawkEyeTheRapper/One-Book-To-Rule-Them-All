{
 "cells": [
  {
   "cell_type": "markdown",
   "id": "6c675c60",
   "metadata": {},
   "source": [
    "# Aether_Commands\n",
    "\n",
    "This notebook stores all custom Aether commands & CLI tools."
   ]
  }
 ],
 "metadata": {},
 "nbformat": 4,
 "nbformat_minor": 5
}
