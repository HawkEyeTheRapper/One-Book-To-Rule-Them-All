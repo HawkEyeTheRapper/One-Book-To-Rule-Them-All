{
 "cells": [
  {
   "cell_type": "markdown",
   "id": "72707fa8",
   "metadata": {},
   "source": [
    "# Aether_Documentation\n",
    "\n",
    "This notebook contains all project documentation & notes."
   ]
  }
 ],
 "metadata": {
  "kernelspec": {
   "display_name": "Python 3 (ipykernel)",
   "language": "python",
   "name": "python3"
  },
  "language_info": {
   "codemirror_mode": {
    "name": "ipython",
    "version": 3
   },
   "file_extension": ".py",
   "mimetype": "text/x-python",
   "name": "python",
   "nbconvert_exporter": "python",
   "pygments_lexer": "ipython3",
   "version": "3.11.6"
  }
 },
 "nbformat": 4,
 "nbformat_minor": 5
}
