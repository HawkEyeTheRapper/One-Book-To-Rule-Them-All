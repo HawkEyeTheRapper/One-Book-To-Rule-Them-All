{
 "cells": [
  {
   "cell_type": "markdown",
   "id": "72707fa8",
   "metadata": {},
   "source": [
    "# Aether_Documentation\n",
    "\n",
    "This notebook contains all project documentation & notes."
   ]
  }
 ],
 "metadata": {},
 "nbformat": 4,
 "nbformat_minor": 5
}
